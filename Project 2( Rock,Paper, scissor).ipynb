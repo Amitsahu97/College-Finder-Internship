{
 "cells": [
  {
   "cell_type": "markdown",
   "id": "5bbc1630",
   "metadata": {},
   "source": [
    "# Game on Rock, Paper & Scissors\n"
   ]
  },
  {
   "cell_type": "code",
   "execution_count": 16,
   "id": "4a08fbc4",
   "metadata": {
    "scrolled": true
   },
   "outputs": [
    {
     "name": "stdout",
     "output_type": "stream",
     "text": [
      "Let's play The Game\n",
      "Choose between r/p/s [Rock, Paper or Scissor]\n",
      "r\n",
      "Choose between r/p/s [Rock, Paper or Scissor]\n",
      "6546\n",
      "Error, Choose correct option\n"
     ]
    }
   ],
   "source": [
    "print(\"Let's play The Game\")\n",
    "# User Input\n",
    "player1=str(input(\"Choose between r/p/s [Rock, Paper or Scissor]\\n\"))\n",
    "player2=str(input(\"Choose between r/p/s [Rock, Paper or Scissor]\\n\"))\n",
    "\n",
    "# Logic using Conditional Statement\n",
    "if (player1=='r')and (player2=='r'):\n",
    "    print(\"Player1 choose {option},and Player2 choose {option2}\".format(option=player1,option2=player2))\n",
    "    print('Its Tie')\n",
    "elif (player1=='p')and (player2=='s'):\n",
    "    print(\"Player1 choose {option},and Player2 choose {option2}\".format(option=player1,option2=player2))\n",
    "    print('Player2 won the game')\n",
    "elif (player1=='r') and (player2=='p'):\n",
    "    print(\"Player1 choose {option},and Player2 choose {option2}\".format(option=player1,option2=player2))\n",
    "    print('Player2 won the match')\n",
    "\n",
    "elif (player1=='p') and (player2=='r'):\n",
    "    print(\"Player1 choose {option},and Player2 choose {option2}\".format(option=player1,option2=player2))\n",
    "    print(\"Player1 won the Match\")\n",
    "    \n",
    "elif (player1=='p') and (player2=='p'):\n",
    "    print(\"Player1 choose {option},and Player2 choose {option2}\".format(option=player1,option2=player2))\n",
    "    print('Its Tie')\n",
    "    \n",
    "elif (player1=='s')and(player2=='r'):\n",
    "    print(\"Player1 choose {option},and Player2 choose {option2}\".format(option=player1,option2=player2))\n",
    "    print(\"Player2 won the Match\")\n",
    "elif (player1=='s')and (player2=='p'):\n",
    "    print(\"Player1 choose {option},and Player2 choose {option2}\".format(option=player1,option2=player2))\n",
    "    print('Player1 Won the Match')\n",
    "\n",
    "else:\n",
    "    print(\"Error, Choose correct option\")\n"
   ]
  },
  {
   "cell_type": "code",
   "execution_count": null,
   "id": "07041fbb",
   "metadata": {},
   "outputs": [],
   "source": []
  },
  {
   "cell_type": "code",
   "execution_count": null,
   "id": "2ec46033",
   "metadata": {},
   "outputs": [],
   "source": []
  },
  {
   "cell_type": "code",
   "execution_count": null,
   "id": "5864be8c",
   "metadata": {},
   "outputs": [],
   "source": []
  },
  {
   "cell_type": "code",
   "execution_count": null,
   "id": "2e24cd40",
   "metadata": {},
   "outputs": [],
   "source": []
  },
  {
   "cell_type": "code",
   "execution_count": null,
   "id": "7e53d24e",
   "metadata": {},
   "outputs": [],
   "source": []
  }
 ],
 "metadata": {
  "kernelspec": {
   "display_name": "Python 3 (ipykernel)",
   "language": "python",
   "name": "python3"
  },
  "language_info": {
   "codemirror_mode": {
    "name": "ipython",
    "version": 3
   },
   "file_extension": ".py",
   "mimetype": "text/x-python",
   "name": "python",
   "nbconvert_exporter": "python",
   "pygments_lexer": "ipython3",
   "version": "3.8.3"
  }
 },
 "nbformat": 4,
 "nbformat_minor": 5
}
