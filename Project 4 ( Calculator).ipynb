{
 "cells": [
  {
   "cell_type": "markdown",
   "id": "3a304511",
   "metadata": {},
   "source": [
    "# Calculator"
   ]
  },
  {
   "cell_type": "code",
   "execution_count": 15,
   "id": "c7f609eb",
   "metadata": {},
   "outputs": [
    {
     "name": "stdout",
     "output_type": "stream",
     "text": [
      "Enter your equation: 8/6\n",
      "The sum of 8 and 6 is 1.3333333333333333\n"
     ]
    }
   ],
   "source": [
    "def addition(a,b):\n",
    "    add = a+b\n",
    "    print(f\"The sum of {a} and {b} is {add}\") \n",
    "\n",
    "def subtraction(a,b):\n",
    "    subt = a-b\n",
    "    print(f\"The result of subtracting {b} from {a} is {sub}\")\n",
    "\n",
    "def multiplcation(a,b):\n",
    "    multiply = a*b\n",
    "    print(f\"The multiplication of {a} and {b} is {multiply}\")\n",
    "\n",
    "def division(a,b):\n",
    "    div = a/b\n",
    "    print(f\"The sum of {a} and {b} is {div}\")\n",
    "\n",
    "def modulus(a,b):\n",
    "    mod = a%b\n",
    "    print(f\"The remainder of {a} when divided by {b} is {mod}\")\n",
    "\n",
    "number1,operator,number2 = map(str, input(\"Enter your equation: \")) \n",
    "number1 = int(number1)\n",
    "number2 = int(number2)\n",
    "\n",
    "if operator == \"+\":\n",
    "    addition(number1,number2)\n",
    "    \n",
    "elif operator == \"-\":\n",
    "    subtraction(number1,number2)\n",
    "    \n",
    "elif operator == \"*\":\n",
    "    multiplication(number1,number2)\n",
    "    \n",
    "elif operator == \"/\":\n",
    "    division(number1,number2)\n",
    "\n",
    "elif operator == \"%\":\n",
    "    modulus(number1,number2)\n",
    "    \n",
    "else:\n",
    "    print(\"Invalid Typo Error! Type something like : 6+5\")"
   ]
  },
  {
   "cell_type": "code",
   "execution_count": null,
   "id": "36ed366f",
   "metadata": {},
   "outputs": [],
   "source": []
  },
  {
   "cell_type": "code",
   "execution_count": null,
   "id": "2e8f9e53",
   "metadata": {},
   "outputs": [],
   "source": []
  }
 ],
 "metadata": {
  "kernelspec": {
   "display_name": "Python 3 (ipykernel)",
   "language": "python",
   "name": "python3"
  },
  "language_info": {
   "codemirror_mode": {
    "name": "ipython",
    "version": 3
   },
   "file_extension": ".py",
   "mimetype": "text/x-python",
   "name": "python",
   "nbconvert_exporter": "python",
   "pygments_lexer": "ipython3",
   "version": "3.8.3"
  }
 },
 "nbformat": 4,
 "nbformat_minor": 5
}
