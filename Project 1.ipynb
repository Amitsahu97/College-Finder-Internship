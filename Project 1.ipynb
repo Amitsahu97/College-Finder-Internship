{
 "cells": [
  {
   "cell_type": "code",
   "execution_count": 1,
   "id": "768449b8",
   "metadata": {},
   "outputs": [
    {
     "name": "stdout",
     "output_type": "stream",
     "text": [
      "Enter Name of Student:Amit\n",
      "Enter Standard:10\n",
      "Enter Divion:A\n",
      "Enter Roll No:45\n"
     ]
    }
   ],
   "source": [
    "name=input('Enter Name of Student:')\n",
    "std=input('Enter Standard:')\n",
    "div=input('Enter Divion:')\n",
    "rollno=int(input('Enter Roll No:'))\n"
   ]
  },
  {
   "cell_type": "markdown",
   "id": "952dc158",
   "metadata": {},
   "source": [
    "Subject Marks Out of 100"
   ]
  },
  {
   "cell_type": "code",
   "execution_count": 2,
   "id": "caab5aca",
   "metadata": {},
   "outputs": [
    {
     "name": "stdout",
     "output_type": "stream",
     "text": [
      "Enter Maths Marks:85\n",
      "Enter Science Marks:82\n",
      "Enter English Marks:83\n"
     ]
    }
   ],
   "source": [
    "math=int(input('Enter Maths Marks:'))\n",
    "science=int(input('Enter Science Marks:'))\n",
    "Eng=int(input('Enter English Marks:'))\n"
   ]
  },
  {
   "cell_type": "markdown",
   "id": "8778c960",
   "metadata": {},
   "source": [
    "# Percentage Scored"
   ]
  },
  {
   "cell_type": "code",
   "execution_count": 3,
   "id": "713fcdf4",
   "metadata": {},
   "outputs": [
    {
     "name": "stdout",
     "output_type": "stream",
     "text": [
      "83.33333333333334\n"
     ]
    }
   ],
   "source": [
    "percent=float(((math+science+Eng)/300)*100)\n",
    "print(percent)"
   ]
  },
  {
   "cell_type": "markdown",
   "id": "c872cfc5",
   "metadata": {},
   "source": [
    " Displaying All Details"
   ]
  },
  {
   "cell_type": "code",
   "execution_count": 4,
   "id": "3acbc57b",
   "metadata": {},
   "outputs": [
    {
     "name": "stdout",
     "output_type": "stream",
     "text": [
      "Name: Amit\n",
      "Standard: 10\n",
      "Division: A\n",
      "Roll No.: 45\n",
      "Maths Marks: 85\n",
      "Science marks: 82\n",
      "English Marks: 83\n",
      "Percentage Scored: 83.33333333333334 %\n"
     ]
    }
   ],
   "source": [
    "print(\"Name:\",name +'\\n'+'Standard:',std + '\\n'+ 'Division:',div + '\\n' + 'Roll No.:',rollno )\n",
    "print(\"Maths Marks:\",str(math) + '\\n'+ \"Science marks:\",str(science) +'\\n'+\"English Marks:\",str(Eng) )\n",
    "print(\"Percentage Scored:\",str(percent)  + ' %')"
   ]
  },
  {
   "cell_type": "code",
   "execution_count": null,
   "id": "bf2f7aeb",
   "metadata": {},
   "outputs": [],
   "source": []
  }
 ],
 "metadata": {
  "kernelspec": {
   "display_name": "Python 3",
   "language": "python",
   "name": "python3"
  },
  "language_info": {
   "codemirror_mode": {
    "name": "ipython",
    "version": 3
   },
   "file_extension": ".py",
   "mimetype": "text/x-python",
   "name": "python",
   "nbconvert_exporter": "python",
   "pygments_lexer": "ipython3",
   "version": "3.8.8"
  }
 },
 "nbformat": 4,
 "nbformat_minor": 5
}
